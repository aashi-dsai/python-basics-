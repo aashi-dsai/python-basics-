{
  "nbformat": 4,
  "nbformat_minor": 0,
  "metadata": {
    "colab": {
      "provenance": []
    },
    "kernelspec": {
      "name": "python3",
      "display_name": "Python 3"
    },
    "language_info": {
      "name": "python"
    }
  },
  "cells": [
    {
      "cell_type": "markdown",
      "source": [
        "1) What is Python, and why is it popular ?\n",
        "  - Python is ahigh level and interpreted programming language.\n",
        "  - It is popular because it's really easy to learn and use.It is used in many fields like Web Development, Data Science, Machine Learning , etc."
      ],
      "metadata": {
        "id": "5KM0io26_E5W"
      }
    },
    {
      "cell_type": "markdown",
      "source": [
        "2) What is an interpreter in Python ?\n",
        "   - In Python, interpreter is a program who reads the code and translate it to in computer language to execute."
      ],
      "metadata": {
        "id": "vFiNDo91_GTt"
      }
    },
    {
      "cell_type": "markdown",
      "source": [
        "3) What are pre-defined keywords in Python ?\n",
        "   - Pre-defined keywords, also known as reserved keywords, have special meanings in Python and cannot be used as variable names. For example, the if keyword is used for conditional statements, so you can't use if as a variable name.Few more example are else ,elif,return ,etc."
      ],
      "metadata": {
        "id": "FvSgvKH8B8aV"
      }
    },
    {
      "cell_type": "markdown",
      "source": [
        "4)Can keywords be used as variable names ?\n",
        "  - No, keywords cannot be used as variable name."
      ],
      "metadata": {
        "id": "zUKt0U9yDk6I"
      }
    },
    {
      "cell_type": "markdown",
      "source": [
        "5) What is mutability in Python ?\n",
        "   - Mutability has two parts: mutable and immutable. If you can change an object (like a variable, list, or string) after it's created, it is called mutable. If you cannot change it, it's called immutable. So, mutability refers to whether or not an object can be changed after it's created"
      ],
      "metadata": {
        "id": "F1Zq16xcDlAk"
      }
    },
    {
      "cell_type": "markdown",
      "source": [
        "6) Why are lists mutable, but tuples are immutable?\n",
        "   - Lists are mutable because their elements can be changed after they are created, whereas tuples are immutable, meaning their elements cannot be changed once they are created."
      ],
      "metadata": {
        "id": "AH4vfOrfFK37"
      }
    },
    {
      "cell_type": "markdown",
      "source": [
        "7) What is the difference between \"==\" and \"is\" operators in Python ?\n",
        "   - The == operator is used to check if the values are the same, while the is operator checks if two objects are stored at the same memory location."
      ],
      "metadata": {
        "id": "rulRlMx5GsD3"
      }
    },
    {
      "cell_type": "markdown",
      "source": [
        "8) What are logical operators in Python ?\n",
        "   - Logical operators are used to combine multiple conditional statements, and they return either True or False. There are three logical operators in Python:\n",
        "\n",
        "    - 1) and: Returns True if both conditions are True.\n",
        "\n",
        "    - 2) or: Returns True if either one of the conditions is True.\n",
        "\n",
        "    - 3) not: Reverses the result of the condition. If the condition is True, it becomes False, and if the condition is False, it becomes True."
      ],
      "metadata": {
        "id": "cMMVQjGKH0QK"
      }
    },
    {
      "cell_type": "markdown",
      "source": [
        "9) What is type casting in Python ?\n",
        "   - Type casting is the process of converting one data type into another.\n",
        "     There are  two ways  to perform type casting in Python:\n",
        "     - 1) Implicit type casting: Python automatically converts one data type to another when needed, usually from a smaller type to a larger type(like from int to float).\n",
        "     - 2) Explicit type casting: In this method, we  manually convert one data type to another using built-in functions.\n",
        "\n",
        "          Common functions used for explicit type Casting:\n",
        "         - int(): Converts to integer\n",
        "\n",
        "         - float(): Converts to float\n",
        "\n",
        "         - str(): Converts to string"
      ],
      "metadata": {
        "id": "KYGtJEZ7JLHQ"
      }
    },
    {
      "cell_type": "markdown",
      "source": [
        "10) What is the difference between implicit and explicit type casting ?\n",
        "- Implicit type casting takes place automatically without human intervention. It usually converts a smaller data type to a larger one. On the other hand, explicit type casting is done manually to convert one data type to another using built-in functions like int(), float(), or str()."
      ],
      "metadata": {
        "id": "Mi2Co_QTia-u"
      }
    },
    {
      "cell_type": "markdown",
      "source": [
        "11)What is the purpose of conditional statements in Python ?\n",
        "- Conditional statements are used to execute certain parts of the code only when specific conditions are met.\n",
        "  They help the program make decisions, like:\n",
        "  - If a condition is true, do something.\n",
        "  - If it's false, do something else."
      ],
      "metadata": {
        "id": "X8d7KgIAjVkT"
      }
    },
    {
      "cell_type": "markdown",
      "source": [
        "12) How does the elif statement work ?\n",
        "- When you want to check multiple conditions after the initial if, the elif (short for else if) statement is used. It only runs if the previous if or elif conditions are false and its own condition is true."
      ],
      "metadata": {
        "id": "HczivTlrkHY7"
      }
    },
    {
      "cell_type": "markdown",
      "source": [
        "13) What is the difference between for and while loops?\n",
        "- The while loop is used when you don't know how many times you'll need to loop — so you keep looping until a condition becomes false.\n",
        "On the other hand, the for loop is used when you know in advance how many times you want to run a block of code.\n",
        " Basic difference is that:\n",
        " - for loop is mainly used for iterating over a sequence (like a list, string, or range).\n",
        " - while loop keeps running until the condition becomes false."
      ],
      "metadata": {
        "id": "3k247vZj5yhF"
      }
    },
    {
      "cell_type": "markdown",
      "source": [
        "14)  Describe a scenario where a while loop is more suitable than a for loop.\n",
        "- Suppose you're designing a website, and you want users to log in by entering the correct password. In this case, you can use a while loop to keep checking if the password is correct or not — because you don't know how many times the user might enter the wrong password.\n",
        "\n",
        "But with a **for** loop, you would have to decide in advance how many times to run the code (like 3 attempts), which doesn't fit well here.\n",
        "\n",
        "That's why a while loop is more suitable — it keeps running until the correct password is entered."
      ],
      "metadata": {
        "id": "zY5-Hs-t7CTj"
      }
    },
    {
      "cell_type": "code",
      "source": [
        "#1) Write a Python program to print \"Hello, World!\n",
        "\n",
        "print('Hello,World!')"
      ],
      "metadata": {
        "colab": {
          "base_uri": "https://localhost:8080/"
        },
        "id": "83ECjefx8HtP",
        "outputId": "f764e8f9-d583-42ff-9cba-cc9f7eaf07d3"
      },
      "execution_count": null,
      "outputs": [
        {
          "output_type": "stream",
          "name": "stdout",
          "text": [
            "Hello,World!\n"
          ]
        }
      ]
    },
    {
      "cell_type": "code",
      "source": [
        "#2) Write a Python program that displays your name and age.\n",
        "\n",
        "name = \"Ashi Gautam\"\n",
        "age = 19\n",
        "print(\"My name is \",name,\".\")\n",
        "print(\"I am \",age,\"years old.\")"
      ],
      "metadata": {
        "colab": {
          "base_uri": "https://localhost:8080/"
        },
        "id": "3AzQyfjW8nnU",
        "outputId": "fd97da35-63fa-4328-cf2f-6247ccbccddf"
      },
      "execution_count": null,
      "outputs": [
        {
          "output_type": "stream",
          "name": "stdout",
          "text": [
            "My name is  Ashi Gautam .\n",
            "I am  19 years old\n"
          ]
        }
      ]
    },
    {
      "cell_type": "code",
      "source": [
        "#3) Write code to print all the pre-defined keywords in Python using the keyword library.\n",
        "\n",
        "import keyword as kw\n",
        "print(\"Python Keywords:\")\n",
        "print(kw.kwlist)"
      ],
      "metadata": {
        "colab": {
          "base_uri": "https://localhost:8080/"
        },
        "id": "k7iUTErq_Xlv",
        "outputId": "6141d5d6-4d6f-4c97-be60-99988ba1bb65"
      },
      "execution_count": null,
      "outputs": [
        {
          "output_type": "stream",
          "name": "stdout",
          "text": [
            "Python Keywords:\n",
            "['False', 'None', 'True', 'and', 'as', 'assert', 'async', 'await', 'break', 'class', 'continue', 'def', 'del', 'elif', 'else', 'except', 'finally', 'for', 'from', 'global', 'if', 'import', 'in', 'is', 'lambda', 'nonlocal', 'not', 'or', 'pass', 'raise', 'return', 'try', 'while', 'with', 'yield']\n"
          ]
        }
      ]
    },
    {
      "cell_type": "code",
      "source": [
        "#4) Write a program that checks if a given word is a Python keyword.\n",
        "\n",
        "import keyword as kw\n",
        "\n",
        "word = input(\"Enter a word to check if it's a Python keyword: \")\n",
        "\n",
        "if kw.iskeyword(word):\n",
        "    print(word,\"is a Python keyword.\")\n",
        "else :\n",
        "    print(word, \" is not a Python keyword\")"
      ],
      "metadata": {
        "colab": {
          "base_uri": "https://localhost:8080/"
        },
        "id": "VN3b1l0PAwA5",
        "outputId": "067804ff-ed03-458c-91ba-2acddec728af"
      },
      "execution_count": null,
      "outputs": [
        {
          "output_type": "stream",
          "name": "stdout",
          "text": [
            "Enter a word to check if it's a Python keyword: prashant\n",
            "prashant  is not a Python keyword\n"
          ]
        }
      ]
    },
    {
      "cell_type": "code",
      "source": [
        "#5) Create a list and tuple in Python, and demonstrate how attempting to change an element works differently for each\n",
        "\n",
        "my_list = [10, 20, 30]\n",
        "\n",
        "my_list[1] = 65 #Number at index 1 will get change from 20 to 65.\n",
        "\n",
        "print(\"Updated List:\", my_list)\n",
        "\n",
        "my_tuple = (10, 20, 30)\n",
        "\n",
        "my_tuple[1] = 99 #This will result an error"
      ],
      "metadata": {
        "id": "lGtueB_xCOjO",
        "colab": {
          "base_uri": "https://localhost:8080/",
          "height": 193
        },
        "outputId": "61b37d82-1e7d-435f-d909-88c668cf4f9a"
      },
      "execution_count": 2,
      "outputs": [
        {
          "output_type": "stream",
          "name": "stdout",
          "text": [
            "Updated List: [10, 99, 30]\n"
          ]
        },
        {
          "output_type": "error",
          "ename": "TypeError",
          "evalue": "'tuple' object does not support item assignment",
          "traceback": [
            "\u001b[0;31m---------------------------------------------------------------------------\u001b[0m",
            "\u001b[0;31mTypeError\u001b[0m                                 Traceback (most recent call last)",
            "\u001b[0;32m<ipython-input-2-d2b9f38b6260>\u001b[0m in \u001b[0;36m<cell line: 0>\u001b[0;34m()\u001b[0m\n\u001b[1;32m      9\u001b[0m \u001b[0mmy_tuple\u001b[0m \u001b[0;34m=\u001b[0m \u001b[0;34m(\u001b[0m\u001b[0;36m10\u001b[0m\u001b[0;34m,\u001b[0m \u001b[0;36m20\u001b[0m\u001b[0;34m,\u001b[0m \u001b[0;36m30\u001b[0m\u001b[0;34m)\u001b[0m\u001b[0;34m\u001b[0m\u001b[0;34m\u001b[0m\u001b[0m\n\u001b[1;32m     10\u001b[0m \u001b[0;34m\u001b[0m\u001b[0m\n\u001b[0;32m---> 11\u001b[0;31m \u001b[0mmy_tuple\u001b[0m\u001b[0;34m[\u001b[0m\u001b[0;36m1\u001b[0m\u001b[0;34m]\u001b[0m \u001b[0;34m=\u001b[0m \u001b[0;36m99\u001b[0m  \u001b[0;31m# This will raise an error\u001b[0m\u001b[0;34m\u001b[0m\u001b[0;34m\u001b[0m\u001b[0m\n\u001b[0m",
            "\u001b[0;31mTypeError\u001b[0m: 'tuple' object does not support item assignment"
          ]
        }
      ]
    },
    {
      "cell_type": "code",
      "source": [
        "#6) Write a function to demonstrate the behavior of mutable and immutable arguments.\n",
        "\n",
        "def demo(a, b):\n",
        "    print(\"Inside function (before change):\")\n",
        "    print(\"a =\", a)\n",
        "    print(\"b =\", b)\n",
        "\n",
        "    a = a + 5\n",
        "    b.append(99)\n",
        "\n",
        "    print(\"Inside function (after change):\")\n",
        "    print(\"a =\", a)\n",
        "    print(\"b =\", b)\n",
        "\n",
        "\n",
        "x = 10\n",
        "y = [1, 2, 3]\n",
        "\n",
        "print(\"Before function call:\")\n",
        "print(\"x =\", x)\n",
        "print(\"y =\", y)\n",
        "\n",
        "demo(x, y)\n",
        "\n",
        "print(\"After function call:\")\n",
        "print(\"x =\", x)\n",
        "print(\"y =\", y)\n"
      ],
      "metadata": {
        "colab": {
          "base_uri": "https://localhost:8080/"
        },
        "id": "o9hFpgfnrzIa",
        "outputId": "abbbb4b1-5de8-43cc-ed23-5fe6e25e93c0"
      },
      "execution_count": 15,
      "outputs": [
        {
          "output_type": "stream",
          "name": "stdout",
          "text": [
            "Before function call:\n",
            "x = 10\n",
            "y = [1, 2, 3]\n",
            "Inside function (before change):\n",
            "a = 10\n",
            "b = [1, 2, 3]\n",
            "Inside function (after change):\n",
            "a = 15\n",
            "b = [1, 2, 3, 99]\n",
            "After function call:\n",
            "x = 10\n",
            "y = [1, 2, 3, 99]\n"
          ]
        }
      ]
    },
    {
      "cell_type": "code",
      "source": [
        "#7)Write a program that performs basic arithmetic operations on two user-input numbers.\n",
        "\n",
        "num1 = float(input(\"Enter first number: \"))\n",
        "num2 = float(input(\"Enter second number: \"))\n",
        "\n",
        "addition = num1 + num2\n",
        "subtraction = num1 - num2\n",
        "multiplication = num1 * num2\n",
        "\n",
        "if num2 != 0:\n",
        "    division = num1 / num2\n",
        "else:\n",
        "    division = \"Undefined (cannot divide by zero)\"\n",
        "\n",
        "print(\"\\nResults:\")\n",
        "print(\"Addition:\", addition)\n",
        "print(\"Subtraction:\", subtraction)\n",
        "print(\"Multiplication:\", multiplication)\n",
        "print(\"Division:\", division)"
      ],
      "metadata": {
        "colab": {
          "base_uri": "https://localhost:8080/"
        },
        "id": "9L6hfPC6rzWJ",
        "outputId": "e82e83d4-67a0-4724-88af-577a21b6e88d"
      },
      "execution_count": 3,
      "outputs": [
        {
          "output_type": "stream",
          "name": "stdout",
          "text": [
            "Enter first number: 25\n",
            "Enter second number: 26\n",
            "\n",
            "Results:\n",
            "Addition: 51.0\n",
            "Subtraction: -1.0\n",
            "Multiplication: 650.0\n",
            "Division: 0.9615384615384616\n"
          ]
        }
      ]
    },
    {
      "cell_type": "code",
      "source": [
        "#8) Write a program to demonstrate the use of logical operators.\n",
        "\n",
        "# logical operator demo\n",
        "\n",
        "# taking input\n",
        "age = int(input(\"Enter your age: \"))\n",
        "ticket = input(\"Do you have a ticket? (yes or no): \")\n",
        "\n",
        "# changing ticket to boolean\n",
        "if ticket == \"yes\":\n",
        "    has_ticket = True\n",
        "else:\n",
        "    has_ticket = False\n",
        "\n",
        "# using 'and'\n",
        "if age >= 18 and has_ticket == True:\n",
        "    print(\"You can enter the event.\")\n",
        "else:\n",
        "    print(\"Sorry, you can't enter.\")\n",
        "\n",
        "# using 'or'\n",
        "if age >= 18 or has_ticket == True:\n",
        "    print(\"You may get a discount.\")\n",
        "else:\n",
        "    print(\"No discount for you.\")\n",
        "\n",
        "# using 'not'\n",
        "if not has_ticket:\n",
        "    print(\"Please buy a ticket.\")\n",
        "else:\n",
        "    print(\"You already have a ticket.\")"
      ],
      "metadata": {
        "id": "AuOGpgejslie"
      },
      "execution_count": null,
      "outputs": []
    },
    {
      "cell_type": "code",
      "source": [
        "#9)Write a Python program to convert user input from string to integer, float, and boolean types.\n",
        "\n",
        "data = input(\"Enter any value: \")\n",
        "print(\"You entered:\", data)\n",
        "\n",
        "# convert to integer\n",
        "print(\"\\nTrying to convert to integer...\")\n",
        "try:\n",
        "    int_value = int(data)\n",
        "    print(\"Integer value:\", int_value)\n",
        "except:\n",
        "    print(\"Cannot convert to integer.\")\n",
        "\n",
        "# convert to float\n",
        "print(\"\\nTrying to convert to float...\")\n",
        "try:\n",
        "    float_value = float(data)\n",
        "    print(\"Float value:\", float_value)\n",
        "except:\n",
        "    print(\"Cannot convert to float.\")\n",
        "\n",
        "# convert to boolean\n",
        "print(\"\\nConverting to boolean...\")\n",
        "bool_value = bool(data)\n",
        "print(\"Boolean value:\", bool_value)"
      ],
      "metadata": {
        "colab": {
          "base_uri": "https://localhost:8080/"
        },
        "id": "o5KVetDTs-8b",
        "outputId": "a55ea5bf-8aed-4729-e73d-ff002e8d2b53"
      },
      "execution_count": 5,
      "outputs": [
        {
          "output_type": "stream",
          "name": "stdout",
          "text": [
            "Enter any value: string\n",
            "You entered: string\n",
            "\n",
            "Trying to convert to integer...\n",
            "Cannot convert to integer.\n",
            "\n",
            "Trying to convert to float...\n",
            "Cannot convert to float.\n",
            "\n",
            "Converting to boolean...\n",
            "Boolean value: True\n"
          ]
        }
      ]
    },
    {
      "cell_type": "code",
      "source": [
        "# 10) Write code to demonstrate type casting with list elements.\n",
        "\n",
        "str_list = ['10', '20', '30', '40']\n",
        "\n",
        "print(\"Original list (strings):\", str_list)\n",
        "\n",
        "int_list = []\n",
        "for item in str_list:\n",
        "    int_list.append(int(item))\n",
        "\n",
        "print(\"After casting to integers:\", int_list)\n",
        "\n",
        "float_list = []\n",
        "for item in str_list:\n",
        "    float_list.append(float(item))\n",
        "\n",
        "print(\"After casting to floats:\", float_list)\n",
        "bool_list = []\n",
        "for item in str_list:\n",
        "    bool_list.append(bool(item))\n",
        "\n",
        "print(\"After casting to booleans:\", bool_list)\n"
      ],
      "metadata": {
        "colab": {
          "base_uri": "https://localhost:8080/"
        },
        "id": "0LpO8lNzwNN3",
        "outputId": "0d771c53-d6c3-4358-e448-39bce1c515e8"
      },
      "execution_count": 16,
      "outputs": [
        {
          "output_type": "stream",
          "name": "stdout",
          "text": [
            "Original list (strings): ['10', '20', '30', '40']\n",
            "After casting to integers: [10, 20, 30, 40]\n",
            "After casting to floats: [10.0, 20.0, 30.0, 40.0]\n",
            "After casting to booleans: [True, True, True, True]\n"
          ]
        }
      ]
    },
    {
      "cell_type": "code",
      "source": [
        "#11)Write a program that checks if a number is positive, negative, or zero.\n",
        "\n",
        "#Take a input\n",
        "\n",
        "num = float(input(\"Enter a number: \"))\n",
        "\n",
        "if num > 0:\n",
        "    print(\"The number is positive.\")\n",
        "elif num<0:\n",
        "    print(\"The number is negative.\")\n",
        "else:\n",
        "    print(\"The number is equal to zero.\")"
      ],
      "metadata": {
        "colab": {
          "base_uri": "https://localhost:8080/"
        },
        "id": "CcuxfFEwyYl9",
        "outputId": "b35531eb-b90f-4808-b8be-e02a7007deba"
      },
      "execution_count": 6,
      "outputs": [
        {
          "output_type": "stream",
          "name": "stdout",
          "text": [
            "Enter a number: 56\n",
            "The number is positive.\n"
          ]
        }
      ]
    },
    {
      "cell_type": "code",
      "source": [
        "#12) Write a for loop to print numbers from 1 to 10.\n",
        "\n",
        "for i in range(1, 11):\n",
        "    print(i)"
      ],
      "metadata": {
        "colab": {
          "base_uri": "https://localhost:8080/"
        },
        "id": "7DHtWmnOzU05",
        "outputId": "cac8879b-e16f-4e19-c33f-099023ac07ce"
      },
      "execution_count": 8,
      "outputs": [
        {
          "output_type": "stream",
          "name": "stdout",
          "text": [
            "1\n",
            "2\n",
            "3\n",
            "4\n",
            "5\n",
            "6\n",
            "7\n",
            "8\n",
            "9\n",
            "10\n"
          ]
        }
      ]
    },
    {
      "cell_type": "code",
      "source": [
        "#13 Write a Python program to find the sum of all even numbers between 1 and 50.\n",
        "\n",
        "total_sum = 0\n",
        "\n",
        "for num in range(1,51):\n",
        "    if num % 2 == 0:\n",
        "        total_sum += num\n",
        "\n",
        "print(\"The sum of all even numbers between 1 and 50 is:\", total_sum)\n"
      ],
      "metadata": {
        "colab": {
          "base_uri": "https://localhost:8080/"
        },
        "id": "ljKJV5gk0w1f",
        "outputId": "aa9634cb-2781-49df-aeb1-e237c6ef7b87"
      },
      "execution_count": 9,
      "outputs": [
        {
          "output_type": "stream",
          "name": "stdout",
          "text": [
            "The sum of all even numbers between 1 and 50 is: 650\n"
          ]
        }
      ]
    },
    {
      "cell_type": "code",
      "source": [
        "#14) Write a program to reverse a string using a while loop.\n",
        "\n",
        "input_string = input(\"Enter a string: \")\n",
        "\n",
        "reversed_string = \"\"\n",
        "index = len(input_string) - 1\n",
        "\n",
        "while index >= 0:\n",
        "    reversed_string += input_string[index]\n",
        "    index -= 1\n",
        "\n",
        "print(\"Reversed string:\", reversed_string)\n"
      ],
      "metadata": {
        "colab": {
          "base_uri": "https://localhost:8080/"
        },
        "id": "BsnJrp7e2D4b",
        "outputId": "3e73d174-2e09-4289-96e3-2f250e0e0ed8"
      },
      "execution_count": 10,
      "outputs": [
        {
          "output_type": "stream",
          "name": "stdout",
          "text": [
            "Enter a string: Prashant\n",
            "Reversed string: tnahsarP\n"
          ]
        }
      ]
    },
    {
      "cell_type": "code",
      "source": [
        "#15) Write a Python program to calculate the factorial of a number provided by the user using a while loop.\n",
        "\n",
        "num = int(input(\"Enter a number: \"))\n",
        "\n",
        "factorial = 1\n",
        "i = 1\n",
        "\n",
        "if num < 0:\n",
        "    print(\"Factorial is not defined for negative numbers.\")\n",
        "else:\n",
        "    while i <= num:\n",
        "        factorial = factorial * i\n",
        "        i = i + 1\n",
        "\n",
        "print(\"Factorial of\", num, \"is\", factorial)"
      ],
      "metadata": {
        "colab": {
          "base_uri": "https://localhost:8080/"
        },
        "id": "qCK_4xaL9L6K",
        "outputId": "067a56b8-7769-4133-b3fe-9a7f09d309d2"
      },
      "execution_count": 14,
      "outputs": [
        {
          "output_type": "stream",
          "name": "stdout",
          "text": [
            "Enter a number: 65\n",
            "Factorial of 65 is 8247650592082470666723170306785496252186258551345437492922123134388955774976000000000000000\n"
          ]
        }
      ]
    }
  ]
}